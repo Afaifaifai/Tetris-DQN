{
 "cells": [
  {
   "cell_type": "code",
   "execution_count": null,
   "id": "2f57bb8a",
   "metadata": {},
   "outputs": [],
   "source": [
    "# %load run_human.py\n",
    "import gym\n",
    "import pygame\n",
    "import gym_tetris\n",
    "\n",
    "\n",
    "def main():\n",
    "    env = gym.make('tetris-v1')\n",
    "    env.reset()\n",
    "\n",
    "    running = True\n",
    "    while running:\n",
    "        action = 0\n",
    "\n",
    "        env.render()\n",
    "\n",
    "        for event in pygame.event.get():\n",
    "            if event.type == pygame.QUIT:\n",
    "                running = False\n",
    "            elif event.type == pygame.KEYDOWN:\n",
    "                if event.key == pygame.K_LEFT:\n",
    "                    action = 1\n",
    "                elif event.key == pygame.K_RIGHT:\n",
    "                    action = 2\n",
    "                elif event.key == pygame.K_z:\n",
    "                    action = 3\n",
    "                elif event.key == pygame.K_x:\n",
    "                    action = 4\n",
    "                elif event.key == pygame.K_DOWN:\n",
    "                    action = 5\n",
    "                elif event.key == pygame.K_UP:\n",
    "                    action = 6\n",
    "                elif event.key == pygame.K_SPACE:\n",
    "                    action = 7\n",
    "                elif event.key == pygame.K_r:\n",
    "                    env.reset()\n",
    "\n",
    "        env.step(action)\n",
    "\n",
    "    env.close()\n",
    "\n",
    "\n",
    "if __name__ == '__main__':\n",
    "    main()\n"
   ]
  },
  {
   "cell_type": "code",
   "execution_count": null,
   "id": "1eb1b74c",
   "metadata": {},
   "outputs": [],
   "source": [
    "pip install gym\n",
    "pip install gym_tetris"
   ]
  },
  {
   "cell_type": "code",
   "execution_count": null,
   "id": "35317355",
   "metadata": {},
   "outputs": [],
   "source": []
  }
 ],
 "metadata": {
  "kernelspec": {
   "display_name": "Python 3",
   "language": "python",
   "name": "python3"
  },
  "language_info": {
   "codemirror_mode": {
    "name": "ipython",
    "version": 3
   },
   "file_extension": ".py",
   "mimetype": "text/x-python",
   "name": "python",
   "nbconvert_exporter": "python",
   "pygments_lexer": "ipython3",
   "version": "3.6.9"
  }
 },
 "nbformat": 4,
 "nbformat_minor": 5
}
